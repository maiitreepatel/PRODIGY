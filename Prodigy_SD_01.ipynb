{
 "cells": [
  {
   "cell_type": "code",
   "execution_count": null,
   "id": "88c54a23",
   "metadata": {},
   "outputs": [
    {
     "name": "stdout",
     "output_type": "stream",
     "text": [
      "Enter the temperature value: 55\n",
      "Enter the unit of measurement (C for Celsius, F for Fahrenheit, K for Kelvin): F\n",
      "55.0°F is equal to 12.78°C and 285.93K.\n"
     ]
    }
   ],
   "source": [
    "def celsius_to_fahrenheit(celsius):\n",
    "    return (celsius * 9/5) + 32\n",
    "\n",
    "def fahrenheit_to_celsius(fahrenheit):\n",
    "    return (fahrenheit - 32) * 5/9\n",
    "\n",
    "def celsius_to_kelvin(celsius):\n",
    "    return celsius + 273.15\n",
    "\n",
    "def kelvin_to_celsius(kelvin):\n",
    "    return kelvin - 273.15\n",
    "\n",
    "def fahrenheit_to_kelvin(fahrenheit):\n",
    "    celsius = fahrenheit_to_celsius(fahrenheit)\n",
    "    return celsius_to_kelvin(celsius)\n",
    "\n",
    "def kelvin_to_fahrenheit(kelvin):\n",
    "    celsius = kelvin_to_celsius(kelvin)\n",
    "    return celsius_to_fahrenheit(celsius)\n",
    "\n",
    "def convert_temperature():\n",
    "    while True:\n",
    "        try:\n",
    "            temperature = float(input(\"Enter the temperature value: \"))\n",
    "            unit = input(\"Enter the unit of measurement (C for Celsius, F for Fahrenheit, K for Kelvin): \").upper()\n",
    "            \n",
    "            if unit == 'C':\n",
    "                fahrenheit = celsius_to_fahrenheit(temperature)\n",
    "                kelvin = celsius_to_kelvin(temperature)\n",
    "                print(f\"{temperature}°C is equal to {fahrenheit:.2f}°F and {kelvin:.2f}K.\")\n",
    "            elif unit == 'F':\n",
    "                celsius = fahrenheit_to_celsius(temperature)\n",
    "                kelvin = fahrenheit_to_kelvin(temperature)\n",
    "                print(f\"{temperature}°F is equal to {celsius:.2f}°C and {kelvin:.2f}K.\")\n",
    "            elif unit == 'K':\n",
    "                celsius = kelvin_to_celsius(temperature)\n",
    "                fahrenheit = kelvin_to_fahrenheit(temperature)\n",
    "                print(f\"{temperature}K is equal to {celsius:.2f}°C and {fahrenheit:.2f}°F.\")\n",
    "            else:\n",
    "                print(\"Invalid unit. Please enter C, F, or K.\")\n",
    "        except ValueError:\n",
    "            print(\"Invalid input. Please enter a valid temperature value.\")\n",
    "\n",
    "convert_temperature()\n"
   ]
  },
  {
   "cell_type": "code",
   "execution_count": null,
   "id": "1826f59e",
   "metadata": {},
   "outputs": [],
   "source": []
  }
 ],
 "metadata": {
  "kernelspec": {
   "display_name": "Python 3 (ipykernel)",
   "language": "python",
   "name": "python3"
  },
  "language_info": {
   "codemirror_mode": {
    "name": "ipython",
    "version": 3
   },
   "file_extension": ".py",
   "mimetype": "text/x-python",
   "name": "python",
   "nbconvert_exporter": "python",
   "pygments_lexer": "ipython3",
   "version": "3.10.9"
  }
 },
 "nbformat": 4,
 "nbformat_minor": 5
}
