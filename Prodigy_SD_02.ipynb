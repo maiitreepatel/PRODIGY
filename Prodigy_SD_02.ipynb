{
 "cells": [
  {
   "cell_type": "code",
   "execution_count": 2,
   "id": "e144cdeb",
   "metadata": {},
   "outputs": [
    {
     "name": "stdout",
     "output_type": "stream",
     "text": [
      "Guess the number (between 1 and 100): 65\n",
      "Too low! Try again.\n",
      "Guess the number (between 1 and 100): 89\n",
      "Too high! Try again.\n",
      "Guess the number (between 1 and 100): 78\n",
      "Too high! Try again.\n",
      "Guess the number (between 1 and 100): 67\n",
      "Too low! Try again.\n",
      "Guess the number (between 1 and 100): 68\n",
      "Too low! Try again.\n",
      "Guess the number (between 1 and 100): 69\n",
      "Too low! Try again.\n",
      "Guess the number (between 1 and 100): 70\n",
      "Too low! Try again.\n",
      "Guess the number (between 1 and 100): 71\n",
      "Too low! Try again.\n",
      "Guess the number (between 1 and 100): 72\n",
      "Congratulations! You guessed the number 72 correctly.\n",
      "It took you 9 attempts.\n"
     ]
    }
   ],
   "source": [
    "import random\n",
    "\n",
    "# Generate a random number between 1 and 100\n",
    "secret_number = random.randint(1, 100)\n",
    "\n",
    "attempts = 0\n",
    "\n",
    "while True:\n",
    "    user_guess = int(input(\"Guess the number (between 1 and 100): \"))\n",
    "    attempts += 1\n",
    "\n",
    "    if user_guess < secret_number:\n",
    "        print(\"Too low! Try again.\")\n",
    "    elif user_guess > secret_number:\n",
    "        print(\"Too high! Try again.\")\n",
    "    else:\n",
    "        print(f\"Congratulations! You guessed the number {secret_number} correctly.\")\n",
    "        print(f\"It took you {attempts} attempts.\")\n",
    "        break\n"
   ]
  },
  {
   "cell_type": "code",
   "execution_count": null,
   "id": "0b9aa81e",
   "metadata": {},
   "outputs": [],
   "source": []
  }
 ],
 "metadata": {
  "kernelspec": {
   "display_name": "Python 3 (ipykernel)",
   "language": "python",
   "name": "python3"
  },
  "language_info": {
   "codemirror_mode": {
    "name": "ipython",
    "version": 3
   },
   "file_extension": ".py",
   "mimetype": "text/x-python",
   "name": "python",
   "nbconvert_exporter": "python",
   "pygments_lexer": "ipython3",
   "version": "3.10.9"
  }
 },
 "nbformat": 4,
 "nbformat_minor": 5
}
